{
  "nbformat": 4,
  "nbformat_minor": 0,
  "metadata": {
    "colab": {
      "provenance": [],
      "collapsed_sections": [
        "EMjZMU0-rbsO",
        "7P7eOUIGXCJj",
        "U_5hhnIVYLUr"
      ]
    },
    "kernelspec": {
      "name": "python3",
      "display_name": "Python 3"
    },
    "language_info": {
      "name": "python"
    }
  },
  "cells": [
    {
      "cell_type": "markdown",
      "source": [
        "# **1. Python syntax (cú pháp của Python)**"
      ],
      "metadata": {
        "id": "EMjZMU0-rbsO"
      }
    },
    {
      "cell_type": "markdown",
      "source": [
        "Cú pháp của Python được đánh giá là đơn giản, ngắn gọn, trong sáng, gần với ngôn ngữ tự nhiên. Vì vậy, Python hiện nay đã được chọn làm ngôn ngữ lập trình nhập môn cho trẻ em, người mới bắt đầu học lập trình.\n",
        "\n",
        "Ví dụ, để in một xâu ký tự trong `Python` và `Java`:\n",
        "*   `Python`\n",
        "\n",
        "    ```python\n",
        "    print(\"Do Phuong dao de!\")\n",
        "    ```\n",
        "*   `Java`\n",
        "\n",
        "    ```java\n",
        "    public class Main {\n",
        "        public static void main(String[] args) {\n",
        "            System.out.println(\"Hello world!\");\n",
        "        }\n",
        "    }\n",
        "    ```\n"
      ],
      "metadata": {
        "id": "abY92_W605bX"
      }
    },
    {
      "cell_type": "markdown",
      "source": [
        "## **1.1. Statements (câu lệnh)**\n",
        "\n",
        "Câu lệnh là một dòng mã thực hiện một hành động cụ thể. Đây là đơn vị mã nhỏ nhất có thể được trình thông dịch Python thực thi. Mỗi câu lệnh được phân tách nhau bằng việc xuống dòng."
      ],
      "metadata": {
        "id": "4LAGa45K78eD"
      }
    },
    {
      "cell_type": "code",
      "source": [
        "# Assignment Statement\n",
        "x = 8\n",
        "y = 5\n",
        "\n",
        "\n",
        "# Conditional statement\n",
        "if x < 10:\n",
        "    print(\"x is less than 5\")\n",
        "\n",
        "if x < y:\n",
        "    print(\"x is less than y\")\n",
        "else:\n",
        "    print(\"x is not less than y\")\n"
      ],
      "metadata": {
        "colab": {
          "base_uri": "https://localhost:8080/"
        },
        "id": "Kv6nOa9XNxeo",
        "outputId": "abaa34c7-4aab-4482-e0f3-d8d69451dee3"
      },
      "execution_count": null,
      "outputs": [
        {
          "output_type": "stream",
          "name": "stdout",
          "text": [
            "x is less than 5\n",
            "x is not less than y\n"
          ]
        }
      ]
    },
    {
      "cell_type": "markdown",
      "source": [
        "## **1.2. Comments (chú thích)**"
      ],
      "metadata": {
        "id": "lpPwPxByr1A4"
      }
    },
    {
      "cell_type": "markdown",
      "source": [
        "Chú thích trong Python là những dòng trong mã bị trình thông dịch bỏ qua trong quá trình thực thi chương trình. Chú thích giúp giải thích đoạn code, làm đoạn code dễ đọc và dễ hiểu. Comment trong Python được bắt đầu bằng dấu sharp `#`"
      ],
      "metadata": {
        "id": "LfgJPBYjPIYC"
      }
    },
    {
      "cell_type": "code",
      "source": [
        "# Đây là đoạn chú thích\n",
        "# Đoạn chú thích này không được Python thực thi\n",
        "\n",
        "# Đoạn mã dưới đây hoán đổi giá trị của hai biến x và y\n",
        "# mà không cần sử dụng thêm biến phụ thứ ba\n",
        "x = 5\n",
        "y = 7\n",
        "print(\"Before: x = {}, y = {}\".format(x, y))\n",
        "\n",
        "if x >= y:\n",
        "    x = x + y\n",
        "    y = x - y\n",
        "    x = x - y\n",
        "else:\n",
        "    y = y + x\n",
        "    x = y - x\n",
        "    y = y - x\n",
        "print(\"After : x = {}, y = {}\".format(x, y))"
      ],
      "metadata": {
        "colab": {
          "base_uri": "https://localhost:8080/"
        },
        "id": "vNPjSIS2RT-0",
        "outputId": "490132a8-5fd9-4472-dc36-aaa5676cbe8d"
      },
      "execution_count": null,
      "outputs": [
        {
          "output_type": "stream",
          "name": "stdout",
          "text": [
            "Before: x = 5, y = 7\n",
            "After : x = 7, y = 5\n"
          ]
        }
      ]
    },
    {
      "cell_type": "markdown",
      "source": [
        "## **1.3. Indentation (thụt lề)**"
      ],
      "metadata": {
        "id": "fjgNQc5Ty0V-"
      }
    },
    {
      "cell_type": "markdown",
      "source": [
        "Indentation trong Python đề cập đến việc thêm khoảng trắng trước một câu lệnh. Nói cách khác, tất cả các câu lệnh có cùng khoảng trắng ở bên trái đều thuộc cùng một khối mã (code block)."
      ],
      "metadata": {
        "id": "7lhPz2E41Ev5"
      }
    },
    {
      "cell_type": "code",
      "execution_count": null,
      "metadata": {
        "id": "WvSpluIkpORw",
        "colab": {
          "base_uri": "https://localhost:8080/"
        },
        "outputId": "ef002c84-afbd-41b6-ce0d-a5a28c9fc15e"
      },
      "outputs": [
        {
          "output_type": "stream",
          "name": "stdout",
          "text": [
            "Toi la Do Phuong, toi dao de!\n",
            "Toi hay bat chuoc anh Rung de treu tuc anh!\n",
            "Toi hay bat nat anh Rung, vi toi thich the, duoc chua :)\n"
          ]
        }
      ],
      "source": [
        "DP_daode = True                                                                 # indentation level = 0 (0 space), code block 1\n",
        "DP_feminist = True                                                              # indentation level = 0 (0 space), code block 1\n",
        "\n",
        "if DP_daode:                                                                    # indentation level = 0 (0 space), code block 1\n",
        "    print(\"Toi la Do Phuong, toi dao de!\")                                      # indentation level = 1 (4 spaces), code block 2\n",
        "    if DP_feminist:                                                             # indentation level = 1 (4 spaces), code block 2\n",
        "        print(\"Toi hay bat chuoc anh Rung de treu tuc anh!\")                    # indentation level = 2 (8 spaces), code block 3\n",
        "        print(\"Toi hay bat nat anh Rung, vi toi thich the, duoc chua :)\")       # indentation level = 2 (8 spaces), code block 3"
      ]
    },
    {
      "cell_type": "markdown",
      "source": [
        "Để giúp code dễ đọc, Python khuyến nghị một indentation là 4 spaces. Cùng đoạn mã ở trên, chúng ta có thể sử dụng 1 indentation = 2 spaces, hoặc 1 space tùy ý (nhưng phải nhất quán). Đoạn code dưới đây sử dụng 1 indentation = 2 spaces thay vì 4 spaces như đoạn mã ở trên."
      ],
      "metadata": {
        "id": "AL0jJWnR4DCZ"
      }
    },
    {
      "cell_type": "code",
      "source": [
        "DP_daode = True                                                                 # indentation level = 0 (0 space), code block 1\n",
        "DP_feminist = True                                                              # indentation level = 0 (0 space), code block 1\n",
        "\n",
        "if DP_daode:                                                                    # indentation level = 0 (0 space), code block 1\n",
        "  print(\"Toi la Do Phuong, toi dao de!\")                                        # indentation level = 1 (2 spaces), code block 2\n",
        "  if DP_feminist:                                                               # indentation level = 1 (2 spaces), code block 2\n",
        "    print(\"Toi hay bat chuoc anh Rung de treu tuc anh!\")                        # indentation level = 2 (4 spaces), code block 3\n",
        "    print(\"Toi hay bat nat anh Rung, vi toi thich the, duoc chua :)\")           # indentation level = 2 (4 spaces), code block 3"
      ],
      "metadata": {
        "colab": {
          "base_uri": "https://localhost:8080/"
        },
        "id": "0xFQa6bj43uj",
        "outputId": "ea0eb578-66d5-4f5c-c219-7925bbd2a7ac"
      },
      "execution_count": null,
      "outputs": [
        {
          "output_type": "stream",
          "name": "stdout",
          "text": [
            "Toi la Do Phuong, toi dao de!\n",
            "Toi hay bat chuoc anh Rung de treu tuc anh!\n",
            "Toi hay bat nat anh Rung, vi toi thich the, duoc chua :)\n"
          ]
        }
      ]
    },
    {
      "cell_type": "markdown",
      "source": [
        "Có thể hiểu đơn giản indentation như thẻ `heading` trong Microsoft Word. Có các `heading level` 1, 2, 3,..."
      ],
      "metadata": {
        "id": "JLdYG0Bv7PGw"
      }
    },
    {
      "cell_type": "markdown",
      "source": [
        "# **2. Variables (biến trong Python)**"
      ],
      "metadata": {
        "id": "OrzHuvo9r8NO"
      }
    },
    {
      "cell_type": "code",
      "source": [],
      "metadata": {
        "id": "KJ1N-3tdtk5g"
      },
      "execution_count": null,
      "outputs": []
    },
    {
      "cell_type": "markdown",
      "source": [
        "# **3. Data types (kiểu dữ liệu)**"
      ],
      "metadata": {
        "id": "3nDGOXYztDBu"
      }
    },
    {
      "cell_type": "code",
      "source": [],
      "metadata": {
        "id": "JaccS1mFtCPJ"
      },
      "execution_count": null,
      "outputs": []
    },
    {
      "cell_type": "markdown",
      "source": [
        "# **4. Casting (Ép kiểu)**"
      ],
      "metadata": {
        "id": "7P7eOUIGXCJj"
      }
    },
    {
      "cell_type": "code",
      "source": [],
      "metadata": {
        "id": "-48O_pyyYSfb"
      },
      "execution_count": null,
      "outputs": []
    },
    {
      "cell_type": "markdown",
      "source": [
        "# **5. Operators (toán tử)**"
      ],
      "metadata": {
        "id": "U_5hhnIVYLUr"
      }
    },
    {
      "cell_type": "code",
      "source": [],
      "metadata": {
        "id": "-EAaUBq2Xg1i"
      },
      "execution_count": null,
      "outputs": []
    },
    {
      "cell_type": "markdown",
      "source": [
        "# **6. If - Else**"
      ],
      "metadata": {
        "id": "0raw8XOEXiHM"
      }
    },
    {
      "cell_type": "code",
      "source": [],
      "metadata": {
        "id": "j8Khft8NX5_I"
      },
      "execution_count": null,
      "outputs": []
    },
    {
      "cell_type": "markdown",
      "source": [
        "# **7. For loops (vòng lặp For)**"
      ],
      "metadata": {
        "id": "zmn2jv3ZX6gJ"
      }
    },
    {
      "cell_type": "code",
      "source": [],
      "metadata": {
        "id": "yqHkZHdkX_kl"
      },
      "execution_count": null,
      "outputs": []
    }
  ]
}